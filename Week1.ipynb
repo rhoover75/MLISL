{
  "nbformat": 4,
  "nbformat_minor": 0,
  "metadata": {
    "kernelspec": {
      "display_name": "Python 3",
      "language": "python",
      "name": "python3"
    },
    "language_info": {
      "codemirror_mode": {
        "name": "ipython",
        "version": 3
      },
      "file_extension": ".py",
      "mimetype": "text/x-python",
      "name": "python",
      "nbconvert_exporter": "python",
      "pygments_lexer": "ipython3",
      "version": "3.8.10"
    },
    "colab": {
      "name": "Week1.ipynb",
      "provenance": [],
      "include_colab_link": true
    }
  },
  "cells": [
    {
      "cell_type": "markdown",
      "metadata": {
        "id": "view-in-github",
        "colab_type": "text"
      },
      "source": [
        "<a href=\"https://colab.research.google.com/github/rhoover75/MLISL/blob/main/Week1.ipynb\" target=\"_parent\"><img src=\"https://colab.research.google.com/assets/colab-badge.svg\" alt=\"Open In Colab\"/></a>"
      ]
    },
    {
      "cell_type": "markdown",
      "metadata": {
        "id": "MsCu52wvcsFA"
      },
      "source": [
        "# Week 1 - Introduction to Jupyter Lab, interactive programming using your browser and *Python*\n",
        "\n",
        "## Weekly outline:\n",
        "1. Syllabus and course outline\n",
        "2. Installation of Anaconda\n",
        "3. Getting started with Jupyter Lab\n",
        "4. Introduction to *Python*\n",
        "    * Basic I/O\n",
        "    * Variable definitions\n",
        "    * Some sequences\n",
        "    * Basic itteration\n",
        "5. Investigate a problem in science and engineering\n",
        "6. Write a small program to provide a solution to our problem"
      ]
    },
    {
      "cell_type": "markdown",
      "metadata": {
        "id": "kKj_XMSkcsFC"
      },
      "source": [
        "## Anaconda and Installation\n",
        "\n",
        "* First, let's go through the installation of Anaconda and getting our Jupyter notebook \"up and running\".\n",
        "\n",
        "* To get started, you'll want to head on over to:\n",
        "\n",
        "    - https://www.anaconda.com/products/individual\n",
        "\n",
        "    - scroll to the bottom to select which operating system you will use.  \n",
        "    \n",
        "* You should see something like the following:\n",
        "\n",
        "<img src=\"./images/AnacondaInstall.png\" style=\"width:600px\"/>\n",
        "\n",
        "* Go ahead and select the installer for your operating system, and follow the installation instructions."
      ]
    },
    {
      "cell_type": "markdown",
      "metadata": {
        "id": "oNFnSNJJcsFD"
      },
      "source": [
        "## Anaconda Navigator\n",
        "\n",
        "* You should now have an icon (either on your desktop or in your applications/program files) that will open the Anaconda Navigator \n",
        "    - Yours may look a bit different than mine unless you have the option for dark mode\n",
        "\n",
        "<img src=\"./images/AnacondaNav.png\" style=\"width:200px\"/>\n",
        "\n",
        "* Click (or double click on Windows) to open the navigator:\n",
        "\n",
        "<img src=\"./images/AnacondaNavLaunch.png\" style=\"width:600px\"/>\n",
        "\n",
        "* Here we notice several different options, don't worry about most of them, we're only interested in ***launching*** the Jupyter Lab\n",
        "    - top row, third from the left on mine - outlined in red  \n",
        "\n",
        "* Once you click the launch button, it will open a browser tab and you're off and running.\n",
        "    - Don't worry too much about what's happening \"behind the scenes\" but basically you are now running your own personal server (called localhost)\n",
        "        - This will allow you to create new notebooks within your browser\n",
        "\n",
        "\n",
        "* The notebooks are a simple yet powerful way to document your projects while allowing code execution inside them (sort of a one stop shop).\n",
        "\n",
        "* **Congratulations!!!!!** You're officially running a Jupyter notebook!\n",
        "\n",
        "* **You may or may not have noticed, but this lecture is completly written in a Jupyter Notebook!** \n",
        "\n"
      ]
    },
    {
      "cell_type": "markdown",
      "metadata": {
        "id": "6E9_pIGdcsFE"
      },
      "source": [
        "## Getting Started with Jupyter Lab and Jupyter Notebooks\n",
        "\n",
        "* As discussed, this course will use Jupyter Lab for both Lecture and Programming.  \n",
        "    - Jupyter is very popular among data scientists and it's gaining traction in science and engineering as well.\n",
        "\n",
        "* One of the unique features of Jupyter, is our ability to control what we'd like to be executed within individual cells.  \n",
        "    - Notice, when I double click **this cell**, the text \"changes\" a bit.  \n",
        "\n",
        "* This is referred to as a **Markdown** cell and will interpret/convert our text to several different formats (HTML by default).\n",
        "\n",
        "* **You may select what type of cell you'd like from the dropdown menu on the toolbar**"
      ]
    },
    {
      "cell_type": "markdown",
      "metadata": {
        "id": "QULW-FgwcsFE"
      },
      "source": [
        "### Markdown cells\n",
        "* Markdown cells are useful for when you're submitting your project/labs as you'll be able to \"mark down\" your solutions\n",
        "    - This allows us/TAs to see your thought process as well as run your programs.\n",
        "\n",
        "* Becasue this course is about solving problems in science and engineering using *Python*, and NOT about markdown (or Jupyter for that matter), we won't get into all the functionality of markdown or Jupyter\n",
        "    - For those that are interested, there are a plethora of videos on the web discussing everything you'd want to know about both\n",
        "    - The one listed <a href=\"https://jupyter-notebook.readthedocs.io/en/stable/examples/Notebook/Working%20With%20Markdown%20Cells.html\">HERE!</a>"
      ]
    },
    {
      "cell_type": "markdown",
      "metadata": {
        "id": "RCodz5e6csFE"
      },
      "source": [
        "### Code cells\n",
        "* As you may have guessed, another type of cell is a **code cell**, this is where we'll write our code.  \n",
        "    - Once you create a new notebook (file -> new notebook), you will be asked if you'd like to use python3 as the kernal\n",
        "    - You will select the python3 option as that's the language we'll be using in this course\n",
        "\n",
        "* Code cells are \"similar\" to markdown cells, however you'll notice little boxes to the left of your statements with numbers in them \n",
        "    - something like [34]: and [56]: \n",
        "    \n",
        "* The brackets indicate either code to be executed or the output of code that was executed.  \n",
        "* The numbers in the brackets indicate the order in which the code was executed (more on this later).\n",
        "\n",
        "* **Line Numbers:** It's often nice to have line numbers in your code, to add this functionality go to view and select \"show line numbers\""
      ]
    },
    {
      "cell_type": "markdown",
      "metadata": {
        "id": "dJRhN7Q4csFF"
      },
      "source": [
        "### Running Cells\n",
        "* In either case, you can run the cell in one of three different ways:\n",
        "\n",
        "1. Click the \"run\" button in the toolbar\n",
        "2. Click Shift + Enter (this will just run the cell and go to the next cell - or create a new cell if there isn't one following)\n",
        "3. Click Alt + Enter (on Windows) or Option + Enter on Mac (both will run the cell and create a new cell below)\n",
        "\n",
        "**Let's look at our first code cell and write some code**"
      ]
    },
    {
      "cell_type": "code",
      "metadata": {
        "colab": {
          "base_uri": "https://localhost:8080/",
          "height": 54
        },
        "id": "gFmKSbbNcsFF",
        "outputId": "6eab92d7-4f8e-4114-bdec-dc527ba16629"
      },
      "source": [
        "# Anything following a hash mark is interpreted as a comment #\n",
        "\"\"\"\n",
        "We can also block comment by adding quotations.\n",
        "\n",
        "In either case, comments are ignored by the Python interpreter.\n",
        "\"\"\"\n",
        "\n",
        "# The most basic level is to get information out to the user, print works well for this #\n",
        "print(\"Hello, World!\")\n",
        "\n",
        "# we can also just display Hello, World and we'll get the Out []: box #\n",
        "\"Hello, World\"\n",
        "\n",
        "# The number in the box corresponds to the order in which the cell was ran #\n",
        "# This will be important later but shouldn't cause any problems as we get started #"
      ],
      "execution_count": 1,
      "outputs": [
        {
          "output_type": "stream",
          "text": [
            "Hello, World!\n"
          ],
          "name": "stdout"
        },
        {
          "output_type": "execute_result",
          "data": {
            "application/vnd.google.colaboratory.intrinsic+json": {
              "type": "string"
            },
            "text/plain": [
              "'Hello, World'"
            ]
          },
          "metadata": {
            "tags": []
          },
          "execution_count": 1
        }
      ]
    },
    {
      "cell_type": "markdown",
      "metadata": {
        "id": "rna75JgdcsFI"
      },
      "source": [
        "### Let's write some code to see python in action (**please follow along**) #"
      ]
    },
    {
      "cell_type": "code",
      "metadata": {
        "id": "irD2maZ4csFI",
        "outputId": "b169c1ff-c480-4f7f-aa38-0b55f87ffe61"
      },
      "source": [
        "# Let's create a variable (simply some name to store some data) #\n",
        "MyVariable = \"Hello, World\"\n",
        "\n",
        "# We can see what type of data is being stored by using the type() function #\n",
        "print(type(MyVariable))"
      ],
      "execution_count": null,
      "outputs": [
        {
          "output_type": "stream",
          "text": [
            "<class 'str'>\n"
          ],
          "name": "stdout"
        }
      ]
    },
    {
      "cell_type": "markdown",
      "metadata": {
        "id": "GUX2ZOOgcsFJ"
      },
      "source": [
        "* **Notice:** the variable itself didn't display anything \n",
        "    - However, the print statement displays the output of the type() function\n",
        "    - In this case, MyVariable must be a string (str) of some kind\n",
        "* What about other types?"
      ]
    },
    {
      "cell_type": "code",
      "metadata": {
        "id": "eK4CrGUucsFJ",
        "outputId": "2df80c4c-d009-474e-92c0-03f7319eebbe"
      },
      "source": [
        "# Let's create a few variables and display their type #\n",
        "x = 1\n",
        "y = 1.0\n",
        "z = 4+6j\n",
        "\n",
        "print(type(x))\n",
        "print(type(y))\n",
        "print(type(z))\n"
      ],
      "execution_count": null,
      "outputs": [
        {
          "output_type": "stream",
          "text": [
            "<class 'int'>\n",
            "<class 'float'>\n",
            "<class 'complex'>\n"
          ],
          "name": "stdout"
        }
      ]
    },
    {
      "cell_type": "markdown",
      "metadata": {
        "id": "rZvXB63fcsFJ"
      },
      "source": [
        "* Looks like x is an integer (no decimal portion), y is a float (floating point number - mantissa and exponent), and z is a complex number (real and imaginary parts).\n",
        "\n",
        "### Rules for defining variables\n",
        "1. A variable must start with a letter or the underscore\n",
        "2. A variable can NOT start with a number\n",
        "3. A variable can ONLY contain alpha-numeric values and underscores (e.g., F3Test or F3_Test or f3_test, etc.)\n",
        "4. A variable is case sensative! (e.g., F3Test is NOT the same as f3Test and F3test and f3tEst, etc.)\n",
        "\n",
        "* Now that we've executed (ran) the cell, we can use these variables in other programs:"
      ]
    },
    {
      "cell_type": "code",
      "metadata": {
        "id": "rr7zLZ_EcsFK",
        "outputId": "ec80afd0-e548-4a80-e655-7e423e182d97"
      },
      "source": [
        "xx = 4*x + y\n",
        "yy = 2*x + y*z\n",
        "zz = 3*z\n",
        "\n",
        "print(xx)\n",
        "print(yy)\n",
        "print(zz)"
      ],
      "execution_count": null,
      "outputs": [
        {
          "output_type": "stream",
          "text": [
            "5.0\n",
            "(6+6j)\n",
            "(12+18j)\n"
          ],
          "name": "stdout"
        }
      ]
    },
    {
      "cell_type": "markdown",
      "metadata": {
        "id": "ee2DZyuacsFK"
      },
      "source": [
        "### We can also have collections of data we might want to store\n",
        "* Collections are referred to as sequences.  \n",
        "    - In this course we'll mainly focus on a specific type of sequence (called a Numpy array)\n",
        "    - For completeness however, we'll introduce two important sequences here:\n",
        "```python\n",
        "# The list and the tuple #\n",
        "list()\n",
        "tuple()\n",
        "```"
      ]
    },
    {
      "cell_type": "code",
      "metadata": {
        "id": "rCS4h19PcsFL",
        "outputId": "3bfdfd65-a55a-4264-d242-9bb6903b9b90"
      },
      "source": [
        "# Let's see what a list does #\n",
        "MyList = [4,7,13.2,\"help\",42]\n",
        "\n",
        "print(MyList)\n",
        "\n",
        "# And now a tuple #\n",
        "MyTuple = (4,7,13.2,\"help\",42)\n",
        "\n",
        "print(MyTuple)"
      ],
      "execution_count": null,
      "outputs": [
        {
          "output_type": "stream",
          "text": [
            "[4, 7, 13.2, 'help', 42]\n",
            "(4, 7, 13.2, 'help', 42)\n"
          ],
          "name": "stdout"
        }
      ]
    },
    {
      "cell_type": "markdown",
      "metadata": {
        "id": "yT1phG9dcsFL"
      },
      "source": [
        "* Hmmmm.  At first glance, there doesn't seem to be much difference between a list and a tuple\n",
        "    - Other than one uses brackets and the other uses parenthesis\n",
        "\n",
        "* Let's \"dig in\" a bit deeper to see the difference.  \n",
        "\n",
        "* We can access individual elements in both using the bracket notation\n",
        "    - Bracket: [i] for i=0,1,2,...n-1 where i is the index (order) of the items in the sequence and n is the number of items you have in the sequence\n",
        "\n",
        "**Example:**"
      ]
    },
    {
      "cell_type": "code",
      "metadata": {
        "id": "ihT4LyACcsFM",
        "outputId": "db5404ff-0205-4c34-93fd-973b32c2c6a0"
      },
      "source": [
        "# Get the first item in the list #\n",
        "print(MyList[0])\n",
        "\n",
        "# Get the fourth item in the tuple #\n",
        "print(MyTuple[3])"
      ],
      "execution_count": null,
      "outputs": [
        {
          "output_type": "stream",
          "text": [
            "4\n",
            "help\n"
          ],
          "name": "stdout"
        }
      ]
    },
    {
      "cell_type": "markdown",
      "metadata": {
        "id": "vkEln3fXcsFM"
      },
      "source": [
        "* Now, what happens if we try to assign a different value in the list (or the tuple for that matter)\n",
        "    - For example, suppose I don't want \"help\" anymore but instead I want \"start\""
      ]
    },
    {
      "cell_type": "code",
      "metadata": {
        "id": "2ADnpuK5csFN",
        "outputId": "12a0bc86-1c0e-404f-c803-4f25304457ec"
      },
      "source": [
        "MyList[3] = \"start\"\n",
        "MyTuple[3] = \"start\""
      ],
      "execution_count": null,
      "outputs": [
        {
          "output_type": "error",
          "ename": "TypeError",
          "evalue": "'tuple' object does not support item assignment",
          "traceback": [
            "\u001b[0;31m---------------------------------------------------------------------------\u001b[0m",
            "\u001b[0;31mTypeError\u001b[0m                                 Traceback (most recent call last)",
            "\u001b[0;32m<ipython-input-7-cd6aaf547608>\u001b[0m in \u001b[0;36m<module>\u001b[0;34m\u001b[0m\n\u001b[1;32m      1\u001b[0m \u001b[0mMyList\u001b[0m\u001b[0;34m[\u001b[0m\u001b[0;36m3\u001b[0m\u001b[0;34m]\u001b[0m \u001b[0;34m=\u001b[0m \u001b[0;34m\"start\"\u001b[0m\u001b[0;34m\u001b[0m\u001b[0;34m\u001b[0m\u001b[0m\n\u001b[0;32m----> 2\u001b[0;31m \u001b[0mMyTuple\u001b[0m\u001b[0;34m[\u001b[0m\u001b[0;36m3\u001b[0m\u001b[0;34m]\u001b[0m \u001b[0;34m=\u001b[0m \u001b[0;34m\"start\"\u001b[0m\u001b[0;34m\u001b[0m\u001b[0;34m\u001b[0m\u001b[0m\n\u001b[0m",
            "\u001b[0;31mTypeError\u001b[0m: 'tuple' object does not support item assignment"
          ]
        }
      ]
    },
    {
      "cell_type": "markdown",
      "metadata": {
        "id": "uGE4BA2dcsFN"
      },
      "source": [
        "* **Looks like we get an error**  \n",
        "    - Notice that the error is only really coming from the tuple not the list!\n",
        "\n",
        "* It turns out that the major difference between tuples and lists are that **tuples are immutable** whereas **lists are mutable**\n",
        "    - **Read: We can change the contents of a list by a simple reassignment but not a tuple**"
      ]
    },
    {
      "cell_type": "code",
      "metadata": {
        "id": "yvpQxlHlcsFO"
      },
      "source": [
        "print(MyList)\n",
        "print(MyTuple)"
      ],
      "execution_count": null,
      "outputs": []
    },
    {
      "cell_type": "markdown",
      "metadata": {
        "id": "lgeMIzO8csFO"
      },
      "source": [
        "* Another interesting artifact with lists, we MUST take caution when making/eiditing a copy"
      ]
    },
    {
      "cell_type": "code",
      "metadata": {
        "id": "8Q3CLmHjcsFO"
      },
      "source": [
        "# Let's make a copy of MyList #\n",
        "MyOtherList = MyList\n",
        "\n",
        "print(MyOtherList)"
      ],
      "execution_count": null,
      "outputs": []
    },
    {
      "cell_type": "markdown",
      "metadata": {
        "id": "6e0iRZAdcsFP"
      },
      "source": [
        "* Because lists are **mutable** (i.e., we can change their contents), let's see what happens when we change things up a bit."
      ]
    },
    {
      "cell_type": "code",
      "metadata": {
        "id": "twp17pgNcsFP"
      },
      "source": [
        "MyOtherList[3] = \"Hello, World!\"\n",
        "\n",
        "print(MyOtherList)\n",
        "print(MyList)"
      ],
      "execution_count": null,
      "outputs": []
    },
    {
      "cell_type": "markdown",
      "metadata": {
        "id": "nLiied4UcsFP"
      },
      "source": [
        "* **What happened????????**\n",
        "    - It looks like changing one list actually changed both!!!\n",
        "* This is becasue when we \"copy\" some items in python, it doens't *actually* copy them, it just creates a new reference to them.  \n",
        "    - So when you change one, you also change the other one\n",
        "* This seems unfortunate, is there a way around it????"
      ]
    },
    {
      "cell_type": "code",
      "metadata": {
        "id": "KxCNUlCxcsFQ"
      },
      "source": [
        "# Let's make an actual copy of the list #\n",
        "MyList = [4,7,13.2,\"help\",42]\n",
        "\n",
        "# use the .copy() method to make a copy #\n",
        "MyListCopy = MyList.copy()\n",
        "\n",
        "# Now let's change the copy and make sure it didn't change the original #\n",
        "MyListCopy[0] = \"OG\"\n",
        "\n",
        "print(MyList)\n",
        "print(MyListCopy)"
      ],
      "execution_count": null,
      "outputs": []
    },
    {
      "cell_type": "markdown",
      "metadata": {
        "id": "xV_XfXMJcsFQ"
      },
      "source": [
        "* **Whew!  It looks like it worked!**"
      ]
    },
    {
      "cell_type": "markdown",
      "metadata": {
        "id": "dWq48pH9csFR"
      },
      "source": [
        "### Slicing sequences\n",
        "\n",
        "* We've now seen that both lists and tuples are types of sequences\n",
        "\n",
        "* It turns out, so are strings (**similar to tuples, they are NOT mutable**)"
      ]
    },
    {
      "cell_type": "code",
      "metadata": {
        "id": "dgAj6thscsFR"
      },
      "source": [
        "MyString = \"This is a really cool string!\"\n",
        "\n",
        "print(MyString[10])\n",
        "\n",
        "MyString[0] = 'H'"
      ],
      "execution_count": null,
      "outputs": []
    },
    {
      "cell_type": "markdown",
      "metadata": {
        "id": "Um18X963csFR"
      },
      "source": [
        "* Suppose we want more than a single element from the sequence:  \n",
        "    - We can use a proces call slicing (format is: [start:stop:increment])\n",
        "* **Note:** the increment must be an integer."
      ]
    },
    {
      "cell_type": "code",
      "metadata": {
        "id": "ZQIHZ-MTcsFS"
      },
      "source": [
        "# Let's look at a slice of our string #\n",
        "start = 0\n",
        "stop = 16\n",
        "inc = 1\n",
        "NewString = MyString[start:stop:inc]\n",
        "\n",
        "print(NewString)"
      ],
      "execution_count": null,
      "outputs": []
    },
    {
      "cell_type": "markdown",
      "metadata": {
        "id": "blHXS9WwcsFS"
      },
      "source": [
        "* Of course, we can always just put the values in as opposed to creating new variables for them:"
      ]
    },
    {
      "cell_type": "code",
      "metadata": {
        "id": "LH8iayWWcsFS"
      },
      "source": [
        "AnotherString = NewString[10:16]\n",
        "print(AnotherString)"
      ],
      "execution_count": null,
      "outputs": []
    },
    {
      "cell_type": "markdown",
      "metadata": {
        "id": "rx7RwLavcsFT"
      },
      "source": [
        "* We don't have to explicitly state where the start or stop is if we want the rest of the elements in the sequence."
      ]
    },
    {
      "cell_type": "code",
      "metadata": {
        "id": "CUHCJbrYcsFT"
      },
      "source": [
        "# Grab all the elements from 10 to the end of NewString #\n",
        "AnotherString = NewString[10:]\n",
        "print(AnotherString)\n",
        "\n",
        "# Grab all the elements from 0 to (10-1) of NewString #\n",
        "print(NewString[:10])"
      ],
      "execution_count": null,
      "outputs": []
    },
    {
      "cell_type": "markdown",
      "metadata": {
        "id": "jpZQFJIycsFU"
      },
      "source": [
        "* We can also \"glue\" them back together!"
      ]
    },
    {
      "cell_type": "code",
      "metadata": {
        "id": "xZUYfnshcsFU"
      },
      "source": [
        "# Adding strings together is like gluing them #\n",
        "OriginalString = NewString[:10] + NewString[10:] + MyString[stop:]\n",
        "print(OriginalString)"
      ],
      "execution_count": null,
      "outputs": []
    },
    {
      "cell_type": "markdown",
      "metadata": {
        "id": "Y1mORAv3csFU"
      },
      "source": [
        "* What happens if we multiply them?"
      ]
    },
    {
      "cell_type": "code",
      "metadata": {
        "id": "GDUe4i_8csFU"
      },
      "source": [
        "print(AnotherString*4)"
      ],
      "execution_count": null,
      "outputs": []
    },
    {
      "cell_type": "markdown",
      "metadata": {
        "id": "T-xMkSjecsFV"
      },
      "source": [
        "* All of this is also possible with lists and tuples as well!"
      ]
    },
    {
      "cell_type": "code",
      "metadata": {
        "id": "ZrksGo4TcsFV"
      },
      "source": [
        "# Recall our list #\n",
        "MyList = [4,7,13.2,\"help\",42]\n",
        "\n",
        "# Recall our tuple #\n",
        "MyTuple = tuple(MyList)\n",
        "\n",
        "print(MyList)\n",
        "print(MyTuple)"
      ],
      "execution_count": null,
      "outputs": []
    },
    {
      "cell_type": "code",
      "metadata": {
        "id": "q9_hYTqJcsFV"
      },
      "source": [
        "print(MyList[3]) # What will this display? #\n",
        "print(MyTuple[2:]) # What will this display? #\n",
        "print(MyList + MyList) # What will this display? #\n",
        "print(MyTuple + MyTuple) # What will this display? #\n",
        "print(MyList*3) # What will this display? #\n",
        "print(MyTuple*3) # What will this display? #"
      ],
      "execution_count": null,
      "outputs": []
    },
    {
      "cell_type": "markdown",
      "metadata": {
        "id": "QeDJ2eM8csFW"
      },
      "source": [
        "* If we want to add additional items to our list, *Python* has provided a method for that\n",
        "    - **Note:** this is not possible with tuples as they are immutable    "
      ]
    },
    {
      "cell_type": "code",
      "metadata": {
        "id": "ThfwpEOpcsFW"
      },
      "source": [
        "# Add an additional element to the list #\n",
        "MyList.append(\"New Element\")\n",
        "print(MyList)"
      ],
      "execution_count": null,
      "outputs": []
    },
    {
      "cell_type": "markdown",
      "metadata": {
        "id": "SFH10497csFW"
      },
      "source": [
        "### Iteration\n",
        "\n",
        "* One of the most useful (and common) uses of programming in science and engineering is to iterate (cycle) through lists of items and compute on the elements.\n",
        "\n",
        "* Because this is so common, programming languages generally provide several different ways to accomplish such a task\n",
        "\n",
        "    - We'll investigate **one** here (the for loop)\n",
        "\n",
        "* The basics of the for loop are to create a variable that is incremented until it reaches a stopping condition:\n",
        "\n",
        "```python\n",
        "for i in range(start:stop:step):\n",
        "    print(i)\n",
        "```\n",
        "\n",
        "* Some important notes here:\n",
        "    1. The colon indicates the end of the loop conditions and is required\n",
        "    2. The indentation (TAB) is crucial.  \n",
        "        - *Python* interprets everything tabbed after the colon to be included in the loop\n",
        "        - Once you not longer want your code to be included in the loop, you can backspace to the left again\n",
        "    3. The step MUST be an integer\n",
        "    4. The stop is really (stop - 1) as we'll soon see\n",
        "    5. If we want to start at zero and just iterate to stop-1 in steps of one, we can just put the stop condition in the range function\n",
        "        \n",
        "* The following program illustrates this concept\n"
      ]
    },
    {
      "cell_type": "code",
      "metadata": {
        "id": "KzYRB6cZcsFW"
      },
      "source": [
        "n = 10\n",
        "for i in range(n):\n",
        "    print(i)\n",
        "    print(\"Still in the loop\")\n",
        "    \n",
        "print(\"We've now exited the loop\")"
      ],
      "execution_count": null,
      "outputs": []
    },
    {
      "cell_type": "markdown",
      "metadata": {
        "id": "hxoytOEscsFX"
      },
      "source": [
        "## Plotting and matplotlib\n",
        "\n",
        "* Why would we ever need sequences (other than for strings of course?)\n",
        "\n",
        "* Suppose we have some temperature data we've been collecting for several days and we'd like to \"see\" what the weekly tempurature history was.\n",
        "    - This sounds like a great application for a list!\n",
        "    \n",
        "* What if we would also like to compute the average tempurature for each day?\n",
        "    - We could do this for each individual day\n",
        "    - However what if we had a few years worth of data we read from a file?\n",
        "        * We probably don't want to do the average by hand in that case\n",
        "        \n",
        "* Perhaps we can use a loop somehow and append the averages?"
      ]
    },
    {
      "cell_type": "code",
      "metadata": {
        "id": "KY60ooxrcsFX"
      },
      "source": [
        "# Construct a list for the days first #\n",
        "days = [1,2,3,4,5,6,7]\n",
        "\n",
        "# Now let's enter the high, low, and average temperatures #\n",
        "high = [93,95,90,89,87,82,78]\n",
        "low  = [66,65,68,71,70,74,62]\n",
        "\n",
        "# to compute the average, we need to do some itteration (for now) #\n",
        "# first create an empty list #\n",
        "average = []\n",
        "# now iterate through each high/low value and compute the average #\n",
        "# we can use the len() function to get the length of our tempurature data #\n",
        "for i in range(len(high)):\n",
        "    ave = (high[i] + low[i])/2.0\n",
        "    average.append(ave)\n",
        "\n",
        "print(average)"
      ],
      "execution_count": null,
      "outputs": []
    },
    {
      "cell_type": "markdown",
      "metadata": {
        "id": "OJQZsSOCcsFX"
      },
      "source": [
        "### Let's plot our results\n",
        "* We'll be using Matplotlib throughout the course.  \n",
        "    - It's a very powerful plotting library but we'll just use it for somewhat basic things\n",
        "    - For the curious mind, I recommend looking at the <a href=\"https://matplotlib.org\">matplotlib reference</a>"
      ]
    },
    {
      "cell_type": "code",
      "metadata": {
        "id": "UmDH5l_XcsFY"
      },
      "source": [
        "# Great! Let's plot all this cool data #\n",
        "# In order to visualize data graphically #\n",
        "# We'll need some additional tools #\n",
        "# We can import additional tools using the import command as follows: #\n",
        "import matplotlib.pyplot as plt\n",
        "\n",
        "# Because we don't want to spell out \"matplotlib.pyplot\" everytime #\n",
        "# we import \"as plt\" as a shorthand abbreviation #\n",
        "\n",
        "plt.figure(\"Tempurature Data\")\n",
        "plt.plot(days,high,'r',days,low,'k',days,average,'g')\n",
        "plt.xlabel('Days')\n",
        "plt.ylabel('Temps.')\n",
        "plt.legend(['high','low','average'])\n",
        "\n",
        "plt.show()"
      ],
      "execution_count": null,
      "outputs": []
    },
    {
      "cell_type": "markdown",
      "metadata": {
        "id": "cGl6ZapMcsFY"
      },
      "source": [
        "## Recap\n",
        "1. We now have a working *Python* distribution\n",
        "2. We have a mechanism to solve problems in engineering and science\n",
        "3. We have a method to document our solutions\n",
        "    * Both in text format and our coded solutions\n",
        "4. We have seen how to store information, perform some calculations on the information, and plot the results"
      ]
    },
    {
      "cell_type": "markdown",
      "metadata": {
        "id": "BZVhi5LMcsFY"
      },
      "source": [
        "# Week 1 Problem\n",
        "\n",
        "Let's consider a skier bombing it down a mountain that suddenly hits a patch of dirt!  He flails misserably (as most of us would) and smacks into a cusion on the lift pole that acts as a spring.  To ensure our skier doesn't smack into the pole itself, we'll want to see how far the spring is depressed by the skier.\n",
        "\n",
        "<img src=\"./images/Skier.png\" style=\"width:400px\"/>\n",
        "\n",
        "Where do we start?\n",
        "\n",
        "Let's first define our variables:\n",
        "\n",
        "Mass of the skier: $m = 70kg$ <br>\n",
        "Height of the skier: $h = 15m$ <br>\n",
        "Distance of the dirt patch: $d = 10m$ <br>\n",
        "Friction of the dirt: $\\mu = 0.75$ <br>\n",
        "Spring constant: $k = 300 N/m$ <br>\n",
        "Length of the spring: $l = 4m$\n",
        "\n",
        "Recall from physics class:\n",
        "$$\n",
        "\\frac{1}{2} k x^2 - mgh = -mg \\mu d\n",
        "$$\n",
        "\n",
        "**Answer the following (using a markdown cell AFTER your *Python* solution):**\n",
        "1. Does the skier come out okay or does he likely have a concussion (i.e., does the spring depress too far and he hits the pole?)\n",
        "2. Create a plot of the spring depression as a function of spring constants.  Consider: k=[300,320,340,360,380,400,420,440,460,480,500]\n",
        "    * Can you \"estimate\" a value for our spring constant such that the skier comes out okay?\n",
        "    \n",
        "**Hints:**\n",
        "1. Import some additional functionality as needed at the top of your program\n",
        "    * At a minimum you'll need to import math and import matplotlib.pyplot as plt\n",
        "2. Define all your variables at the top of your program\n",
        "3. Using your math import, you can compute square roots as:\n",
        "```python\n",
        "x = math.sqrt(discriminant)\n",
        "```\n",
        "4. Display your output as (convert the number to a string, round it to two decimal places, concatinate):\n",
        "```python\n",
        "print(\"The spring compressed \" + str(round(x,2)) + \" meters.\")\n",
        "```\n",
        "5. You can \"cycle\" through a list getting all the values like (note that the indentation is vital!):\n",
        "```python\n",
        "compression = [0,0,0,0,0,0,0,0,0,0,0] # Create an array of zeros for now #\n",
        "for i in range(len(k)):\n",
        "    discriminant[i] = <equation for the spring compression>\n",
        "```"
      ]
    },
    {
      "cell_type": "code",
      "metadata": {
        "id": "xv9tYFWHcsFY",
        "outputId": "7c437d75-cc47-4145-8e40-367b50749d71"
      },
      "source": [
        "import math\n",
        "import matplotlib.pyplot as plt\n",
        "\n",
        "# TODO: Define all your variables (you might consider making k a list where k[0] = 300)#\n",
        "m = 70\n",
        "h = 15\n",
        "d = 10\n",
        "mu = 0.75\n",
        "g = 9.81\n",
        "k = [300,350,400,450,500,550,600,650,700,750,800]\n",
        "\n",
        "# TODO: Define your discriminant and compute x #\n",
        "disc = 2*m*g*(h - mu*d)/k[0]\n",
        "x = math.sqrt(disc)\n",
        "\n",
        "# TODO: Ouput how far the spring is compressed #\n",
        "print(\"The spring compressed \" + str(round(x,2)) + \" meters.\")\n",
        "\n",
        "# Does the skier come out okay? #\n",
        "\n",
        "# TODO: Cycle through all the values of k and store them #\n",
        "compression = [0,0,0,0,0,0,0,0,0,0,0] # Create an array of zeros for now #\n",
        "for i in range(len(k)):\n",
        "    discriminant = 2*m*g*(h - mu*d)/k[i] # TODO: Modify the above equation to be used here #\n",
        "    compression[i] = math.sqrt(discriminant) # TODO: Compute the compression x #\n",
        "    \n",
        "# TODO: Plot the results (don't forget your axis labels!) #\n",
        "plt.figure(\"Ski Bum\")\n",
        "plt.plot(k,compression)\n",
        "plt.xlabel('spring constant k')\n",
        "plt.ylabel('spring depression in meters')\n",
        "plt.grid('on')\n",
        "\n",
        "plt.show()"
      ],
      "execution_count": null,
      "outputs": [
        {
          "output_type": "stream",
          "text": [
            "The spring compressed 5.86 meters.\n"
          ],
          "name": "stdout"
        },
        {
          "output_type": "display_data",
          "data": {
            "image/png": "[encoded data removed]",
            "text/plain": [
              "<Figure size 432x288 with 1 Axes>"
            ]
          },
          "metadata": {
            "tags": [],
            "needs_background": "light"
          }
        }
      ]
    },
    {
      "cell_type": "code",
      "metadata": {
        "id": "Q0MgPDdBcsFZ"
      },
      "source": [
        ""
      ],
      "execution_count": null,
      "outputs": []
    }
  ]
}